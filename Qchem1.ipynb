{
 "cells": [
  {
   "cell_type": "code",
   "execution_count": 1,
   "metadata": {},
   "outputs": [],
   "source": [
    "import qiskit_nature\n",
    "from qiskit_nature.second_q.drivers import Psi4Driver\n",
    "import numpy as np\n",
    "from qiskit_nature.units import DistanceUnit\n",
    "from qiskit_algorithms import VQE\n",
    "from qiskit_nature.second_q.circuit.library import HartreeFock, UCCSD\n",
    "import pylab\n",
    "from matplotlib import pyplot as plt\n",
    "import psi4\n"
   ]
  }
 ],
 "metadata": {
  "kernelspec": {
   "display_name": "base",
   "language": "python",
   "name": "python3"
  },
  "language_info": {
   "codemirror_mode": {
    "name": "ipython",
    "version": 3
   },
   "file_extension": ".py",
   "mimetype": "text/x-python",
   "name": "python",
   "nbconvert_exporter": "python",
   "pygments_lexer": "ipython3",
   "version": "3.12.1"
  }
 },
 "nbformat": 4,
 "nbformat_minor": 2
}
