{
 "cells": [
  {
   "cell_type": "code",
   "execution_count": 1,
   "metadata": {},
   "outputs": [],
   "source": [
    "import qiskit_nature\n",
    "from qiskit_nature.second_q.drivers import Psi4Driver\n",
    "import numpy as np\n",
    "from qiskit_nature.units import DistanceUnit\n",
    "from qiskit_algorithms import VQE\n",
    "from qiskit_nature.second_q.circuit.library import HartreeFock, UCCSD\n",
    "import pylab\n",
    "from matplotlib import pyplot as plt\n",
    "import psi4\n",
    "from qiskit_algorithms.optimizers import SLSQP\n",
    "from qiskit_nature.second_q.mappers import JordanWignerMapper\n",
    "from qiskit_ibm_runtime import QiskitRuntimeService\n",
    "from qiskit_nature.second_q.algorithms import GroundStateEigensolver\n",
    "from qiskit_nature import settings\n",
    "settings.use_ipython = False"
   ]
  },
  {
   "cell_type": "code",
   "execution_count": 2,
   "metadata": {},
   "outputs": [],
   "source": [
    "driver_options = {\n",
    "    'basis': 'sto-3g',\n",
    "    'scf_type': 'pk', \n",
    "    'reference': 'rhf'\n",
    "}\n",
    "distances = np.arange(0.5,4.25,0.25)\n",
    "energies = {}\n",
    "service = QiskitRuntimeService(channel=\"ibm_quantum\", token=\"82f6eeb5a67e68bc27f19c170479d281103dddfc005292906679d90a8971f33b84ce8c51ce991c90181edd9734ecc5e9519afc001f203c9447e8247923124966\")\n",
    "backend = service.least_busy(operational=True, simulator=False)"
   ]
  },
  {
   "cell_type": "code",
   "execution_count": 3,
   "metadata": {},
   "outputs": [
    {
     "name": "stdout",
     "output_type": "stream",
     "text": [
      "Step 0: Calculating energy for distance 0.5 Angstrom\n",
      "Molecule Geometry for distance 0.5 Angstrom:\n",
      "0 1\n",
      "Li 0.0 0.0 0.0\n",
      "H  0.0 0.0 0.5\n",
      "Problem successfully created for distance 0.5\n",
      "Number of spatial orbitals: 6\n",
      "Number of particles: (2, 2)\n"
     ]
    },
    {
     "ename": "AlgorithmError",
     "evalue": "'The number of qubits of the ansatz does not match the operator, and the ansatz does not allow setting the number of qubits using `num_qubits`.'",
     "output_type": "error",
     "traceback": [
      "\u001b[1;31m---------------------------------------------------------------------------\u001b[0m",
      "\u001b[1;31mAttributeError\u001b[0m                            Traceback (most recent call last)",
      "File \u001b[1;32m~\\AppData\\Roaming\\Python\\Python312\\site-packages\\qiskit_algorithms\\minimum_eigensolvers\\vqe.py:325\u001b[0m, in \u001b[0;36mVQE._check_operator_ansatz\u001b[1;34m(self, operator)\u001b[0m\n\u001b[0;32m    322\u001b[0m     logger\u001b[38;5;241m.\u001b[39minfo(\n\u001b[0;32m    323\u001b[0m         \u001b[38;5;124m\"\u001b[39m\u001b[38;5;124mTrying to resize ansatz to match operator on \u001b[39m\u001b[38;5;132;01m%s\u001b[39;00m\u001b[38;5;124m qubits.\u001b[39m\u001b[38;5;124m\"\u001b[39m, operator\u001b[38;5;241m.\u001b[39mnum_qubits\n\u001b[0;32m    324\u001b[0m     )\n\u001b[1;32m--> 325\u001b[0m     \u001b[38;5;28;43mself\u001b[39;49m\u001b[38;5;241;43m.\u001b[39;49m\u001b[43mansatz\u001b[49m\u001b[38;5;241;43m.\u001b[39;49m\u001b[43mnum_qubits\u001b[49m \u001b[38;5;241m=\u001b[39m operator\u001b[38;5;241m.\u001b[39mnum_qubits\n\u001b[0;32m    326\u001b[0m \u001b[38;5;28;01mexcept\u001b[39;00m \u001b[38;5;167;01mAttributeError\u001b[39;00m \u001b[38;5;28;01mas\u001b[39;00m error:\n",
      "\u001b[1;31mAttributeError\u001b[0m: property 'num_qubits' of 'UCCSD' object has no setter",
      "\nThe above exception was the direct cause of the following exception:\n",
      "\u001b[1;31mAlgorithmError\u001b[0m                            Traceback (most recent call last)",
      "Cell \u001b[1;32mIn[3], line 58\u001b[0m\n\u001b[0;32m     55\u001b[0m calc \u001b[38;5;241m=\u001b[39m GroundStateEigensolver(mapper, vqe)\n\u001b[0;32m     57\u001b[0m \u001b[38;5;66;03m# Solve the problem to get the ground state energy\u001b[39;00m\n\u001b[1;32m---> 58\u001b[0m res \u001b[38;5;241m=\u001b[39m \u001b[43mcalc\u001b[49m\u001b[38;5;241;43m.\u001b[39;49m\u001b[43msolve\u001b[49m\u001b[43m(\u001b[49m\u001b[43mproblem\u001b[49m\u001b[43m)\u001b[49m\n\u001b[0;32m     60\u001b[0m \u001b[38;5;66;03m# Store the energy result\u001b[39;00m\n\u001b[0;32m     61\u001b[0m energies\u001b[38;5;241m.\u001b[39mappend(res\u001b[38;5;241m.\u001b[39mgroundenergy)\n",
      "File \u001b[1;32m~\\AppData\\Roaming\\Python\\Python312\\site-packages\\qiskit_nature\\second_q\\algorithms\\ground_state_solvers\\ground_state_eigensolver.py:73\u001b[0m, in \u001b[0;36mGroundStateEigensolver.solve\u001b[1;34m(self, problem, aux_operators)\u001b[0m\n\u001b[0;32m     62\u001b[0m \u001b[38;5;250m\u001b[39m\u001b[38;5;124;03m\"\"\"Compute Ground State properties.\u001b[39;00m\n\u001b[0;32m     63\u001b[0m \n\u001b[0;32m     64\u001b[0m \u001b[38;5;124;03mArgs:\u001b[39;00m\n\u001b[1;32m   (...)\u001b[0m\n\u001b[0;32m     70\u001b[0m \u001b[38;5;124;03m    :meth:`~.BaseProblem.interpret`.\u001b[39;00m\n\u001b[0;32m     71\u001b[0m \u001b[38;5;124;03m\"\"\"\u001b[39;00m\n\u001b[0;32m     72\u001b[0m main_operator, aux_ops \u001b[38;5;241m=\u001b[39m \u001b[38;5;28mself\u001b[39m\u001b[38;5;241m.\u001b[39mget_qubit_operators(problem, aux_operators)\n\u001b[1;32m---> 73\u001b[0m raw_mes_result \u001b[38;5;241m=\u001b[39m \u001b[38;5;28;43mself\u001b[39;49m\u001b[38;5;241;43m.\u001b[39;49m\u001b[43msolver\u001b[49m\u001b[38;5;241;43m.\u001b[39;49m\u001b[43mcompute_minimum_eigenvalue\u001b[49m\u001b[43m(\u001b[49m\u001b[43mmain_operator\u001b[49m\u001b[43m,\u001b[49m\u001b[43m \u001b[49m\u001b[43maux_ops\u001b[49m\u001b[43m)\u001b[49m\n\u001b[0;32m     75\u001b[0m eigenstate_result \u001b[38;5;241m=\u001b[39m EigenstateResult\u001b[38;5;241m.\u001b[39mfrom_result(raw_mes_result)\n\u001b[0;32m     76\u001b[0m result \u001b[38;5;241m=\u001b[39m problem\u001b[38;5;241m.\u001b[39minterpret(eigenstate_result)\n",
      "File \u001b[1;32m~\\AppData\\Roaming\\Python\\Python312\\site-packages\\qiskit_algorithms\\minimum_eigensolvers\\vqe.py:166\u001b[0m, in \u001b[0;36mVQE.compute_minimum_eigenvalue\u001b[1;34m(self, operator, aux_operators)\u001b[0m\n\u001b[0;32m    161\u001b[0m \u001b[38;5;28;01mdef\u001b[39;00m \u001b[38;5;21mcompute_minimum_eigenvalue\u001b[39m(\n\u001b[0;32m    162\u001b[0m     \u001b[38;5;28mself\u001b[39m,\n\u001b[0;32m    163\u001b[0m     operator: BaseOperator,\n\u001b[0;32m    164\u001b[0m     aux_operators: ListOrDict[BaseOperator] \u001b[38;5;241m|\u001b[39m \u001b[38;5;28;01mNone\u001b[39;00m \u001b[38;5;241m=\u001b[39m \u001b[38;5;28;01mNone\u001b[39;00m,\n\u001b[0;32m    165\u001b[0m ) \u001b[38;5;241m-\u001b[39m\u001b[38;5;241m>\u001b[39m VQEResult:\n\u001b[1;32m--> 166\u001b[0m     \u001b[38;5;28;43mself\u001b[39;49m\u001b[38;5;241;43m.\u001b[39;49m\u001b[43m_check_operator_ansatz\u001b[49m\u001b[43m(\u001b[49m\u001b[43moperator\u001b[49m\u001b[43m)\u001b[49m\n\u001b[0;32m    168\u001b[0m     initial_point \u001b[38;5;241m=\u001b[39m validate_initial_point(\u001b[38;5;28mself\u001b[39m\u001b[38;5;241m.\u001b[39minitial_point, \u001b[38;5;28mself\u001b[39m\u001b[38;5;241m.\u001b[39mansatz)\n\u001b[0;32m    170\u001b[0m     bounds \u001b[38;5;241m=\u001b[39m validate_bounds(\u001b[38;5;28mself\u001b[39m\u001b[38;5;241m.\u001b[39mansatz)\n",
      "File \u001b[1;32m~\\AppData\\Roaming\\Python\\Python312\\site-packages\\qiskit_algorithms\\minimum_eigensolvers\\vqe.py:327\u001b[0m, in \u001b[0;36mVQE._check_operator_ansatz\u001b[1;34m(self, operator)\u001b[0m\n\u001b[0;32m    325\u001b[0m         \u001b[38;5;28mself\u001b[39m\u001b[38;5;241m.\u001b[39mansatz\u001b[38;5;241m.\u001b[39mnum_qubits \u001b[38;5;241m=\u001b[39m operator\u001b[38;5;241m.\u001b[39mnum_qubits\n\u001b[0;32m    326\u001b[0m     \u001b[38;5;28;01mexcept\u001b[39;00m \u001b[38;5;167;01mAttributeError\u001b[39;00m \u001b[38;5;28;01mas\u001b[39;00m error:\n\u001b[1;32m--> 327\u001b[0m         \u001b[38;5;28;01mraise\u001b[39;00m AlgorithmError(\n\u001b[0;32m    328\u001b[0m             \u001b[38;5;124m\"\u001b[39m\u001b[38;5;124mThe number of qubits of the ansatz does not match the \u001b[39m\u001b[38;5;124m\"\u001b[39m\n\u001b[0;32m    329\u001b[0m             \u001b[38;5;124m\"\u001b[39m\u001b[38;5;124moperator, and the ansatz does not allow setting the \u001b[39m\u001b[38;5;124m\"\u001b[39m\n\u001b[0;32m    330\u001b[0m             \u001b[38;5;124m\"\u001b[39m\u001b[38;5;124mnumber of qubits using `num_qubits`.\u001b[39m\u001b[38;5;124m\"\u001b[39m\n\u001b[0;32m    331\u001b[0m         ) \u001b[38;5;28;01mfrom\u001b[39;00m \u001b[38;5;21;01merror\u001b[39;00m\n\u001b[0;32m    333\u001b[0m \u001b[38;5;28;01mif\u001b[39;00m \u001b[38;5;28mself\u001b[39m\u001b[38;5;241m.\u001b[39mansatz\u001b[38;5;241m.\u001b[39mnum_parameters \u001b[38;5;241m==\u001b[39m \u001b[38;5;241m0\u001b[39m:\n\u001b[0;32m    334\u001b[0m     \u001b[38;5;28;01mraise\u001b[39;00m AlgorithmError(\u001b[38;5;124m\"\u001b[39m\u001b[38;5;124mThe ansatz must be parameterized, but has no free parameters.\u001b[39m\u001b[38;5;124m\"\u001b[39m)\n",
      "\u001b[1;31mAlgorithmError\u001b[0m: 'The number of qubits of the ansatz does not match the operator, and the ansatz does not allow setting the number of qubits using `num_qubits`.'"
     ]
    }
   ],
   "source": [
    "for i, d in enumerate(distances):\n",
    "    print(f\"Step {i}: Calculating energy for distance {d} Angstrom\")\n",
    "\n",
    "    molecule_geometry = f\"\"\"\n",
    "0 1\n",
    "Li 0.0 0.0 0.0\n",
    "H  0.0 0.0 {d}\n",
    "    \"\"\"\n",
    "\n",
    "\n",
    "    molecule_geometry = molecule_geometry.strip()\n",
    "\n",
    "\n",
    "    print(f\"Molecule Geometry for distance {d} Angstrom:\")\n",
    "    print(molecule_geometry)\n",
    "\n",
    "\n",
    "    psi4_input = f\"\"\"\n",
    "molecule {{\n",
    "{molecule_geometry}\n",
    "}}\n",
    "\n",
    "set basis = sto-3g\n",
    "\n",
    "energy('scf', return_wfn=True)\n",
    "    \"\"\"\n",
    "\n",
    "    try:\n",
    "        driver = Psi4Driver(psi4_input)\n",
    "        problem = driver.run()\n",
    "        print(f\"Problem successfully created for distance {d}\")\n",
    "    except Exception as e:\n",
    "        print(f\"Error running Psi4Driver for distance {d}: {e}\")\n",
    "        continue\n",
    "    \n",
    "    num_spatial_orbitals = problem.num_spatial_orbitals\n",
    "    num_particles = problem.num_particles\n",
    "\n",
    "\n",
    "    print(f\"Number of spatial orbitals: {num_spatial_orbitals}\")\n",
    "    print(f\"Number of particles: {num_particles}\")\n",
    "\n",
    "\n",
    "    mapper = JordanWignerMapper()\n",
    " \n",
    "\n",
    "    hf_state = HartreeFock(num_spatial_orbitals, num_particles, mapper)\n",
    "\n",
    "\n",
    "    ansatz = UCCSD(num_spatial_orbitals=num_spatial_orbitals, num_particles =num_particles, initial_state=hf_state)\n",
    "\n",
    "    vqe = VQE(backend, ansatz, SLSQP())\n",
    "\n",
    "\n",
    "    calc = GroundStateEigensolver(mapper, vqe)\n",
    "\n",
    "    # Solve the problem to get the ground state energy\n",
    "    res = calc.solve(problem)\n",
    "\n",
    "    # Store the energy result\n",
    "    energies.append(res.groundenergy)"
   ]
  },
  {
   "cell_type": "code",
   "execution_count": null,
   "metadata": {},
   "outputs": [],
   "source": [
    "print(energies)"
   ]
  }
 ],
 "metadata": {
  "kernelspec": {
   "display_name": "base",
   "language": "python",
   "name": "python3"
  },
  "language_info": {
   "codemirror_mode": {
    "name": "ipython",
    "version": 3
   },
   "file_extension": ".py",
   "mimetype": "text/x-python",
   "name": "python",
   "nbconvert_exporter": "python",
   "pygments_lexer": "ipython3",
   "version": "3.12.1"
  }
 },
 "nbformat": 4,
 "nbformat_minor": 2
}
